{
 "cells": [
  {
   "cell_type": "markdown",
   "id": "0ecc3ee3",
   "metadata": {},
   "source": [
    "Final Project - Machine Learning\n",
    "- Daniel Jönsson & Mustafa Al-Bayati\n",
    "- Group 10"
   ]
  },
  {
   "cell_type": "markdown",
   "id": "c3ccfd45",
   "metadata": {},
   "source": [
    "## Dependencies"
   ]
  },
  {
   "cell_type": "code",
   "execution_count": 138,
   "id": "5c84c218",
   "metadata": {},
   "outputs": [
    {
     "name": "stdout",
     "output_type": "stream",
     "text": [
      "Requirement already satisfied: pandas in ./.venv/lib/python3.13/site-packages (2.3.3)\n",
      "Requirement already satisfied: numpy>=1.26.0 in ./.venv/lib/python3.13/site-packages (from pandas) (2.3.4)\n",
      "Requirement already satisfied: python-dateutil>=2.8.2 in ./.venv/lib/python3.13/site-packages (from pandas) (2.9.0.post0)\n",
      "Requirement already satisfied: pytz>=2020.1 in ./.venv/lib/python3.13/site-packages (from pandas) (2025.2)\n",
      "Requirement already satisfied: tzdata>=2022.7 in ./.venv/lib/python3.13/site-packages (from pandas) (2025.2)\n",
      "Requirement already satisfied: six>=1.5 in ./.venv/lib/python3.13/site-packages (from python-dateutil>=2.8.2->pandas) (1.17.0)\n",
      "Note: you may need to restart the kernel to use updated packages.\n",
      "Requirement already satisfied: matplotlib in ./.venv/lib/python3.13/site-packages (3.10.7)\n",
      "Requirement already satisfied: contourpy>=1.0.1 in ./.venv/lib/python3.13/site-packages (from matplotlib) (1.3.3)\n",
      "Requirement already satisfied: cycler>=0.10 in ./.venv/lib/python3.13/site-packages (from matplotlib) (0.12.1)\n",
      "Requirement already satisfied: fonttools>=4.22.0 in ./.venv/lib/python3.13/site-packages (from matplotlib) (4.60.1)\n",
      "Requirement already satisfied: kiwisolver>=1.3.1 in ./.venv/lib/python3.13/site-packages (from matplotlib) (1.4.9)\n",
      "Requirement already satisfied: numpy>=1.23 in ./.venv/lib/python3.13/site-packages (from matplotlib) (2.3.4)\n",
      "Requirement already satisfied: packaging>=20.0 in ./.venv/lib/python3.13/site-packages (from matplotlib) (25.0)\n",
      "Requirement already satisfied: pillow>=8 in ./.venv/lib/python3.13/site-packages (from matplotlib) (12.0.0)\n",
      "Requirement already satisfied: pyparsing>=3 in ./.venv/lib/python3.13/site-packages (from matplotlib) (3.2.5)\n",
      "Requirement already satisfied: python-dateutil>=2.7 in ./.venv/lib/python3.13/site-packages (from matplotlib) (2.9.0.post0)\n",
      "Requirement already satisfied: six>=1.5 in ./.venv/lib/python3.13/site-packages (from python-dateutil>=2.7->matplotlib) (1.17.0)\n",
      "Note: you may need to restart the kernel to use updated packages.\n",
      "Requirement already satisfied: scikit-learn in ./.venv/lib/python3.13/site-packages (1.7.2)\n",
      "Requirement already satisfied: numpy>=1.22.0 in ./.venv/lib/python3.13/site-packages (from scikit-learn) (2.3.4)\n",
      "Requirement already satisfied: scipy>=1.8.0 in ./.venv/lib/python3.13/site-packages (from scikit-learn) (1.16.2)\n",
      "Requirement already satisfied: joblib>=1.2.0 in ./.venv/lib/python3.13/site-packages (from scikit-learn) (1.5.2)\n",
      "Requirement already satisfied: threadpoolctl>=3.1.0 in ./.venv/lib/python3.13/site-packages (from scikit-learn) (3.6.0)\n",
      "Note: you may need to restart the kernel to use updated packages.\n",
      "Requirement already satisfied: numpy in ./.venv/lib/python3.13/site-packages (2.3.4)\n",
      "Note: you may need to restart the kernel to use updated packages.\n"
     ]
    }
   ],
   "source": [
    "%pip install pandas\n",
    "%pip install matplotlib\n",
    "%pip install scikit-learn\n",
    "%pip install numpy"
   ]
  },
  {
   "cell_type": "markdown",
   "id": "fe4ab2c1",
   "metadata": {},
   "source": [
    "## Imports"
   ]
  },
  {
   "cell_type": "code",
   "execution_count": 139,
   "id": "c8ef07ea",
   "metadata": {},
   "outputs": [],
   "source": [
    "import pandas as pd\n",
    "import matplotlib.pyplot as plt\n",
    "import numpy as np\n",
    "from sklearn.model_selection import train_test_split\n",
    "from sklearn.preprocessing import StandardScaler\n",
    "from sklearn.linear_model import LogisticRegression\n",
    "from sklearn.metrics import accuracy_score, precision_score, recall_score, f1_score, confusion_matrix"
   ]
  },
  {
   "cell_type": "markdown",
   "id": "b37a5e0a",
   "metadata": {},
   "source": [
    "# 1. Data Loading"
   ]
  },
  {
   "cell_type": "code",
   "execution_count": 140,
   "id": "45b0cd3b",
   "metadata": {},
   "outputs": [
    {
     "name": "stdout",
     "output_type": "stream",
     "text": [
      "Dataset shape: (5572, 5)\n",
      "<class 'pandas.core.frame.DataFrame'>\n",
      "RangeIndex: 5572 entries, 0 to 5571\n",
      "Data columns (total 5 columns):\n",
      " #   Column      Non-Null Count  Dtype \n",
      "---  ------      --------------  ----- \n",
      " 0   v1          5572 non-null   object\n",
      " 1   v2          5572 non-null   object\n",
      " 2   Unnamed: 2  50 non-null     object\n",
      " 3   Unnamed: 3  12 non-null     object\n",
      " 4   Unnamed: 4  6 non-null      object\n",
      "dtypes: object(5)\n",
      "memory usage: 217.8+ KB\n",
      "None\n"
     ]
    },
    {
     "data": {
      "text/html": [
       "<div>\n",
       "<style scoped>\n",
       "    .dataframe tbody tr th:only-of-type {\n",
       "        vertical-align: middle;\n",
       "    }\n",
       "\n",
       "    .dataframe tbody tr th {\n",
       "        vertical-align: top;\n",
       "    }\n",
       "\n",
       "    .dataframe thead th {\n",
       "        text-align: right;\n",
       "    }\n",
       "</style>\n",
       "<table border=\"1\" class=\"dataframe\">\n",
       "  <thead>\n",
       "    <tr style=\"text-align: right;\">\n",
       "      <th></th>\n",
       "      <th>v1</th>\n",
       "      <th>v2</th>\n",
       "      <th>Unnamed: 2</th>\n",
       "      <th>Unnamed: 3</th>\n",
       "      <th>Unnamed: 4</th>\n",
       "    </tr>\n",
       "  </thead>\n",
       "  <tbody>\n",
       "    <tr>\n",
       "      <th>0</th>\n",
       "      <td>ham</td>\n",
       "      <td>Go until jurong point, crazy.. Available only ...</td>\n",
       "      <td>NaN</td>\n",
       "      <td>NaN</td>\n",
       "      <td>NaN</td>\n",
       "    </tr>\n",
       "    <tr>\n",
       "      <th>1</th>\n",
       "      <td>ham</td>\n",
       "      <td>Ok lar... Joking wif u oni...</td>\n",
       "      <td>NaN</td>\n",
       "      <td>NaN</td>\n",
       "      <td>NaN</td>\n",
       "    </tr>\n",
       "    <tr>\n",
       "      <th>2</th>\n",
       "      <td>spam</td>\n",
       "      <td>Free entry in 2 a wkly comp to win FA Cup fina...</td>\n",
       "      <td>NaN</td>\n",
       "      <td>NaN</td>\n",
       "      <td>NaN</td>\n",
       "    </tr>\n",
       "    <tr>\n",
       "      <th>3</th>\n",
       "      <td>ham</td>\n",
       "      <td>U dun say so early hor... U c already then say...</td>\n",
       "      <td>NaN</td>\n",
       "      <td>NaN</td>\n",
       "      <td>NaN</td>\n",
       "    </tr>\n",
       "    <tr>\n",
       "      <th>4</th>\n",
       "      <td>ham</td>\n",
       "      <td>Nah I don't think he goes to usf, he lives aro...</td>\n",
       "      <td>NaN</td>\n",
       "      <td>NaN</td>\n",
       "      <td>NaN</td>\n",
       "    </tr>\n",
       "  </tbody>\n",
       "</table>\n",
       "</div>"
      ],
      "text/plain": [
       "     v1                                                 v2 Unnamed: 2  \\\n",
       "0   ham  Go until jurong point, crazy.. Available only ...        NaN   \n",
       "1   ham                      Ok lar... Joking wif u oni...        NaN   \n",
       "2  spam  Free entry in 2 a wkly comp to win FA Cup fina...        NaN   \n",
       "3   ham  U dun say so early hor... U c already then say...        NaN   \n",
       "4   ham  Nah I don't think he goes to usf, he lives aro...        NaN   \n",
       "\n",
       "  Unnamed: 3 Unnamed: 4  \n",
       "0        NaN        NaN  \n",
       "1        NaN        NaN  \n",
       "2        NaN        NaN  \n",
       "3        NaN        NaN  \n",
       "4        NaN        NaN  "
      ]
     },
     "execution_count": 140,
     "metadata": {},
     "output_type": "execute_result"
    }
   ],
   "source": [
    "# load the dataset\n",
    "df = pd.read_csv('spam.csv', encoding='latin-1')\n",
    "\n",
    "# display the shape and info of the dataset, also the first 5 rows\n",
    "print(f'Dataset shape: {df.shape}')\n",
    "print(df.info())\n",
    "df.head()\n"
   ]
  },
  {
   "cell_type": "markdown",
   "id": "1eea6b0a",
   "metadata": {},
   "source": [
    "# 2. Preprocessing & Cleaning"
   ]
  },
  {
   "cell_type": "markdown",
   "id": "51c92f4a",
   "metadata": {},
   "source": [
    "## 2.1 Remove unneccessary columns"
   ]
  },
  {
   "cell_type": "code",
   "execution_count": 141,
   "id": "ef43aa9e",
   "metadata": {},
   "outputs": [],
   "source": [
    "# drop unnamed columns  \n",
    "df = df.drop(columns=['Unnamed: 2', 'Unnamed: 3', 'Unnamed: 4'])"
   ]
  },
  {
   "cell_type": "markdown",
   "id": "bb5b62cf",
   "metadata": {},
   "source": [
    "## 2.2 Rename columns"
   ]
  },
  {
   "cell_type": "code",
   "execution_count": 142,
   "id": "0dcbaf93",
   "metadata": {},
   "outputs": [
    {
     "data": {
      "text/html": [
       "<div>\n",
       "<style scoped>\n",
       "    .dataframe tbody tr th:only-of-type {\n",
       "        vertical-align: middle;\n",
       "    }\n",
       "\n",
       "    .dataframe tbody tr th {\n",
       "        vertical-align: top;\n",
       "    }\n",
       "\n",
       "    .dataframe thead th {\n",
       "        text-align: right;\n",
       "    }\n",
       "</style>\n",
       "<table border=\"1\" class=\"dataframe\">\n",
       "  <thead>\n",
       "    <tr style=\"text-align: right;\">\n",
       "      <th></th>\n",
       "      <th>category</th>\n",
       "      <th>message</th>\n",
       "    </tr>\n",
       "  </thead>\n",
       "  <tbody>\n",
       "    <tr>\n",
       "      <th>0</th>\n",
       "      <td>ham</td>\n",
       "      <td>Go until jurong point, crazy.. Available only ...</td>\n",
       "    </tr>\n",
       "    <tr>\n",
       "      <th>1</th>\n",
       "      <td>ham</td>\n",
       "      <td>Ok lar... Joking wif u oni...</td>\n",
       "    </tr>\n",
       "    <tr>\n",
       "      <th>2</th>\n",
       "      <td>spam</td>\n",
       "      <td>Free entry in 2 a wkly comp to win FA Cup fina...</td>\n",
       "    </tr>\n",
       "    <tr>\n",
       "      <th>3</th>\n",
       "      <td>ham</td>\n",
       "      <td>U dun say so early hor... U c already then say...</td>\n",
       "    </tr>\n",
       "    <tr>\n",
       "      <th>4</th>\n",
       "      <td>ham</td>\n",
       "      <td>Nah I don't think he goes to usf, he lives aro...</td>\n",
       "    </tr>\n",
       "  </tbody>\n",
       "</table>\n",
       "</div>"
      ],
      "text/plain": [
       "  category                                            message\n",
       "0      ham  Go until jurong point, crazy.. Available only ...\n",
       "1      ham                      Ok lar... Joking wif u oni...\n",
       "2     spam  Free entry in 2 a wkly comp to win FA Cup fina...\n",
       "3      ham  U dun say so early hor... U c already then say...\n",
       "4      ham  Nah I don't think he goes to usf, he lives aro..."
      ]
     },
     "execution_count": 142,
     "metadata": {},
     "output_type": "execute_result"
    }
   ],
   "source": [
    "df = df.rename(columns={'v1': 'category', 'v2': 'message'})\n",
    "\n",
    "df.head()"
   ]
  },
  {
   "cell_type": "markdown",
   "id": "e9950325",
   "metadata": {},
   "source": [
    "## 2.3 Check for null values"
   ]
  },
  {
   "cell_type": "code",
   "execution_count": 143,
   "id": "40b25539",
   "metadata": {},
   "outputs": [
    {
     "data": {
      "text/plain": [
       "category    0\n",
       "message     0\n",
       "dtype: int64"
      ]
     },
     "execution_count": 143,
     "metadata": {},
     "output_type": "execute_result"
    }
   ],
   "source": [
    "# check for missing values in each column\n",
    "df.isnull().sum()"
   ]
  },
  {
   "cell_type": "markdown",
   "id": "a6a235b6",
   "metadata": {},
   "source": [
    "## 2.4 Check for duplicates & drop"
   ]
  },
  {
   "cell_type": "code",
   "execution_count": 144,
   "id": "decc5c21",
   "metadata": {},
   "outputs": [
    {
     "name": "stdout",
     "output_type": "stream",
     "text": [
      "403\n",
      "0\n"
     ]
    }
   ],
   "source": [
    "# check for duplicate rows\n",
    "print(df.duplicated().sum())\n",
    "\n",
    "# remove duplicate rows\n",
    "df = df.drop_duplicates()\n",
    "\n",
    "# print duplicates after removal\n",
    "print(df.duplicated().sum())"
   ]
  },
  {
   "cell_type": "markdown",
   "id": "ac73250c",
   "metadata": {},
   "source": [
    "## 2.5 Change target ham/spam to 0 and 1"
   ]
  },
  {
   "cell_type": "code",
   "execution_count": 145,
   "id": "8017657a",
   "metadata": {},
   "outputs": [],
   "source": [
    "# use encoding to convert 'ham' to 0 and 'spam' to 1\n",
    "def encode_category(category):\n",
    "    if category == 'ham':\n",
    "        return 0\n",
    "    else:\n",
    "        return 1\n",
    "    \n",
    "df['category'] = df['category'].apply(encode_category)"
   ]
  },
  {
   "cell_type": "markdown",
   "id": "0d96e227",
   "metadata": {},
   "source": [
    "## 2.6 Change messages to lowercase"
   ]
  },
  {
   "cell_type": "code",
   "execution_count": 146,
   "id": "287884fa",
   "metadata": {},
   "outputs": [],
   "source": [
    "## change all messages to lowercase\n",
    "df['message'] = df['message'].str.lower()"
   ]
  },
  {
   "cell_type": "markdown",
   "id": "9a9d4c2c",
   "metadata": {},
   "source": [
    "## 2.7 Display data after cleaning"
   ]
  },
  {
   "cell_type": "code",
   "execution_count": 147,
   "id": "4f79b801",
   "metadata": {},
   "outputs": [
    {
     "data": {
      "text/html": [
       "<div>\n",
       "<style scoped>\n",
       "    .dataframe tbody tr th:only-of-type {\n",
       "        vertical-align: middle;\n",
       "    }\n",
       "\n",
       "    .dataframe tbody tr th {\n",
       "        vertical-align: top;\n",
       "    }\n",
       "\n",
       "    .dataframe thead th {\n",
       "        text-align: right;\n",
       "    }\n",
       "</style>\n",
       "<table border=\"1\" class=\"dataframe\">\n",
       "  <thead>\n",
       "    <tr style=\"text-align: right;\">\n",
       "      <th></th>\n",
       "      <th>category</th>\n",
       "      <th>message</th>\n",
       "    </tr>\n",
       "  </thead>\n",
       "  <tbody>\n",
       "    <tr>\n",
       "      <th>0</th>\n",
       "      <td>0</td>\n",
       "      <td>go until jurong point, crazy.. available only ...</td>\n",
       "    </tr>\n",
       "    <tr>\n",
       "      <th>1</th>\n",
       "      <td>0</td>\n",
       "      <td>ok lar... joking wif u oni...</td>\n",
       "    </tr>\n",
       "    <tr>\n",
       "      <th>2</th>\n",
       "      <td>1</td>\n",
       "      <td>free entry in 2 a wkly comp to win fa cup fina...</td>\n",
       "    </tr>\n",
       "    <tr>\n",
       "      <th>3</th>\n",
       "      <td>0</td>\n",
       "      <td>u dun say so early hor... u c already then say...</td>\n",
       "    </tr>\n",
       "    <tr>\n",
       "      <th>4</th>\n",
       "      <td>0</td>\n",
       "      <td>nah i don't think he goes to usf, he lives aro...</td>\n",
       "    </tr>\n",
       "    <tr>\n",
       "      <th>...</th>\n",
       "      <td>...</td>\n",
       "      <td>...</td>\n",
       "    </tr>\n",
       "    <tr>\n",
       "      <th>5567</th>\n",
       "      <td>1</td>\n",
       "      <td>this is the 2nd time we have tried 2 contact u...</td>\n",
       "    </tr>\n",
       "    <tr>\n",
       "      <th>5568</th>\n",
       "      <td>0</td>\n",
       "      <td>will ì_ b going to esplanade fr home?</td>\n",
       "    </tr>\n",
       "    <tr>\n",
       "      <th>5569</th>\n",
       "      <td>0</td>\n",
       "      <td>pity, * was in mood for that. so...any other s...</td>\n",
       "    </tr>\n",
       "    <tr>\n",
       "      <th>5570</th>\n",
       "      <td>0</td>\n",
       "      <td>the guy did some bitching but i acted like i'd...</td>\n",
       "    </tr>\n",
       "    <tr>\n",
       "      <th>5571</th>\n",
       "      <td>0</td>\n",
       "      <td>rofl. its true to its name</td>\n",
       "    </tr>\n",
       "  </tbody>\n",
       "</table>\n",
       "<p>5169 rows × 2 columns</p>\n",
       "</div>"
      ],
      "text/plain": [
       "      category                                            message\n",
       "0            0  go until jurong point, crazy.. available only ...\n",
       "1            0                      ok lar... joking wif u oni...\n",
       "2            1  free entry in 2 a wkly comp to win fa cup fina...\n",
       "3            0  u dun say so early hor... u c already then say...\n",
       "4            0  nah i don't think he goes to usf, he lives aro...\n",
       "...        ...                                                ...\n",
       "5567         1  this is the 2nd time we have tried 2 contact u...\n",
       "5568         0              will ì_ b going to esplanade fr home?\n",
       "5569         0  pity, * was in mood for that. so...any other s...\n",
       "5570         0  the guy did some bitching but i acted like i'd...\n",
       "5571         0                         rofl. its true to its name\n",
       "\n",
       "[5169 rows x 2 columns]"
      ]
     },
     "execution_count": 147,
     "metadata": {},
     "output_type": "execute_result"
    }
   ],
   "source": [
    "df"
   ]
  },
  {
   "cell_type": "code",
   "execution_count": 148,
   "id": "32c842f4",
   "metadata": {},
   "outputs": [
    {
     "name": "stdout",
     "output_type": "stream",
     "text": [
      "category\n",
      "0    4516\n",
      "1     653\n",
      "Name: count, dtype: int64\n"
     ]
    }
   ],
   "source": [
    "# use value_counts to see the distribution of categories\n",
    "print(df['category'].value_counts())"
   ]
  },
  {
   "cell_type": "markdown",
   "id": "23ee4849",
   "metadata": {},
   "source": [
    "# 3. Feature Engineering"
   ]
  },
  {
   "cell_type": "markdown",
   "id": "45394495",
   "metadata": {},
   "source": [
    "## 3.1 Message Length"
   ]
  },
  {
   "cell_type": "code",
   "execution_count": 149,
   "id": "157e2366",
   "metadata": {},
   "outputs": [],
   "source": [
    "# message length\n",
    "df['message_length'] = df['message'].str.len()"
   ]
  },
  {
   "cell_type": "markdown",
   "id": "2af6af1a",
   "metadata": {},
   "source": [
    "## 3.2 Word Count"
   ]
  },
  {
   "cell_type": "code",
   "execution_count": 150,
   "id": "d565c3c6",
   "metadata": {},
   "outputs": [],
   "source": [
    "# word count\n",
    "def word_counter(message):\n",
    "    count = 0\n",
    "    for word in message.split():\n",
    "        count += 1\n",
    "    return count\n",
    "\n",
    "df['word_count'] = df['message'].apply(word_counter)"
   ]
  },
  {
   "cell_type": "markdown",
   "id": "549503a6",
   "metadata": {},
   "source": [
    "## 3.3 Has Numbers"
   ]
  },
  {
   "cell_type": "code",
   "execution_count": 151,
   "id": "51884bf4",
   "metadata": {},
   "outputs": [],
   "source": [
    "# checks for numbers in the message\n",
    "def has_numbers(message):\n",
    "    for char in message:\n",
    "        if char.isdigit():\n",
    "            return 1\n",
    "    return 0\n",
    "\n",
    "df['has_numbers'] = df['message'].apply(has_numbers)"
   ]
  },
  {
   "cell_type": "markdown",
   "id": "b77f9a1b",
   "metadata": {},
   "source": [
    "## 3.4 Has Link"
   ]
  },
  {
   "cell_type": "code",
   "execution_count": 152,
   "id": "2b9c0b05",
   "metadata": {},
   "outputs": [],
   "source": [
    "# checks if message has links\n",
    "links = ['http', 'www.', '.com', '.net', '.org', '.se']\n",
    "\n",
    "def has_link(message):\n",
    "    for link in links:\n",
    "        if link in message:\n",
    "            return 1\n",
    "    return 0\n",
    "df['has_link'] = df['message'].apply(has_link)"
   ]
  },
  {
   "cell_type": "markdown",
   "id": "6344b685",
   "metadata": {},
   "source": [
    "## 3.5 Has suspicious words"
   ]
  },
  {
   "cell_type": "code",
   "execution_count": 153,
   "id": "e156116d",
   "metadata": {},
   "outputs": [],
   "source": [
    "# checks if message has suspicious words\n",
    "suspicious_words = ['free',\n",
    "                     'win',\n",
    "                    'winner', \n",
    "                    'cash', \n",
    "                    'prize', \n",
    "                    'urgent', \n",
    "                    'claim', \n",
    "                    'offer', \n",
    "                    'buy', \n",
    "                    'credit', \n",
    "                    'loan', \n",
    "                    'click', \n",
    "                    'subscribe', \n",
    "                    'limited', \n",
    "                    'guarantee',\n",
    "                    'risk-free',\n",
    "                    'act now',\n",
    "                    'exclusive',\n",
    "                    'instant',\n",
    "                    'gift',\n",
    "                    'bonus',]\n",
    "\n",
    "def has_suspicious_words(message):\n",
    "    for word in suspicious_words:\n",
    "        if word in message:\n",
    "            return 1\n",
    "    return 0\n",
    "\n",
    "df['has_suspicious_words'] = df['message'].apply(has_suspicious_words)"
   ]
  },
  {
   "cell_type": "code",
   "execution_count": 154,
   "id": "15a61056",
   "metadata": {},
   "outputs": [
    {
     "data": {
      "text/html": [
       "<div>\n",
       "<style scoped>\n",
       "    .dataframe tbody tr th:only-of-type {\n",
       "        vertical-align: middle;\n",
       "    }\n",
       "\n",
       "    .dataframe tbody tr th {\n",
       "        vertical-align: top;\n",
       "    }\n",
       "\n",
       "    .dataframe thead th {\n",
       "        text-align: right;\n",
       "    }\n",
       "</style>\n",
       "<table border=\"1\" class=\"dataframe\">\n",
       "  <thead>\n",
       "    <tr style=\"text-align: right;\">\n",
       "      <th></th>\n",
       "      <th>category</th>\n",
       "      <th>message</th>\n",
       "      <th>message_length</th>\n",
       "      <th>word_count</th>\n",
       "      <th>has_numbers</th>\n",
       "      <th>has_link</th>\n",
       "      <th>has_suspicious_words</th>\n",
       "    </tr>\n",
       "  </thead>\n",
       "  <tbody>\n",
       "    <tr>\n",
       "      <th>0</th>\n",
       "      <td>0</td>\n",
       "      <td>go until jurong point, crazy.. available only ...</td>\n",
       "      <td>111</td>\n",
       "      <td>20</td>\n",
       "      <td>0</td>\n",
       "      <td>0</td>\n",
       "      <td>0</td>\n",
       "    </tr>\n",
       "    <tr>\n",
       "      <th>1</th>\n",
       "      <td>0</td>\n",
       "      <td>ok lar... joking wif u oni...</td>\n",
       "      <td>29</td>\n",
       "      <td>6</td>\n",
       "      <td>0</td>\n",
       "      <td>0</td>\n",
       "      <td>0</td>\n",
       "    </tr>\n",
       "    <tr>\n",
       "      <th>2</th>\n",
       "      <td>1</td>\n",
       "      <td>free entry in 2 a wkly comp to win fa cup fina...</td>\n",
       "      <td>155</td>\n",
       "      <td>28</td>\n",
       "      <td>1</td>\n",
       "      <td>0</td>\n",
       "      <td>1</td>\n",
       "    </tr>\n",
       "    <tr>\n",
       "      <th>3</th>\n",
       "      <td>0</td>\n",
       "      <td>u dun say so early hor... u c already then say...</td>\n",
       "      <td>49</td>\n",
       "      <td>11</td>\n",
       "      <td>0</td>\n",
       "      <td>0</td>\n",
       "      <td>0</td>\n",
       "    </tr>\n",
       "    <tr>\n",
       "      <th>4</th>\n",
       "      <td>0</td>\n",
       "      <td>nah i don't think he goes to usf, he lives aro...</td>\n",
       "      <td>61</td>\n",
       "      <td>13</td>\n",
       "      <td>0</td>\n",
       "      <td>0</td>\n",
       "      <td>0</td>\n",
       "    </tr>\n",
       "  </tbody>\n",
       "</table>\n",
       "</div>"
      ],
      "text/plain": [
       "   category                                            message  \\\n",
       "0         0  go until jurong point, crazy.. available only ...   \n",
       "1         0                      ok lar... joking wif u oni...   \n",
       "2         1  free entry in 2 a wkly comp to win fa cup fina...   \n",
       "3         0  u dun say so early hor... u c already then say...   \n",
       "4         0  nah i don't think he goes to usf, he lives aro...   \n",
       "\n",
       "   message_length  word_count  has_numbers  has_link  has_suspicious_words  \n",
       "0             111          20            0         0                     0  \n",
       "1              29           6            0         0                     0  \n",
       "2             155          28            1         0                     1  \n",
       "3              49          11            0         0                     0  \n",
       "4              61          13            0         0                     0  "
      ]
     },
     "execution_count": 154,
     "metadata": {},
     "output_type": "execute_result"
    }
   ],
   "source": [
    "df.head()"
   ]
  },
  {
   "cell_type": "markdown",
   "id": "a725a0e5",
   "metadata": {},
   "source": [
    "# 4. Visualizations"
   ]
  },
  {
   "cell_type": "markdown",
   "id": "e2d37e41",
   "metadata": {},
   "source": [
    "## 4.1 Values by Category"
   ]
  },
  {
   "cell_type": "code",
   "execution_count": 155,
   "id": "a6cfd493",
   "metadata": {},
   "outputs": [
    {
     "data": {
      "image/png": "[encoded data removed]",
      "text/plain": [
       "<Figure size 640x480 with 1 Axes>"
      ]
     },
     "metadata": {},
     "output_type": "display_data"
    }
   ],
   "source": [
    "# plot how many messages are ham and how many are spam\n",
    "df['category'].value_counts().plot(kind='bar')\n",
    "plt.title('Values by Category')\n",
    "plt.xlabel('Category, 0 for Ham, 1 for Spam')\n",
    "plt.ylabel('Count')\n",
    "plt.xticks(rotation=0)\n",
    "plt.show()"
   ]
  },
  {
   "cell_type": "markdown",
   "id": "74ce9406",
   "metadata": {},
   "source": [
    "## 4.2 Average Message Length by Category"
   ]
  },
  {
   "cell_type": "code",
   "execution_count": 156,
   "id": "71c89cfd",
   "metadata": {},
   "outputs": [
    {
     "data": {
      "image/png": "[encoded data removed]",
      "text/plain": [
       "<Figure size 640x480 with 1 Axes>"
      ]
     },
     "metadata": {},
     "output_type": "display_data"
    }
   ],
   "source": [
    "# make a bar plot for average message length by category\n",
    "df.groupby('category')['message_length'].mean().plot(kind='bar')\n",
    "plt.title('Average Message Length by Category')\n",
    "plt.xlabel('Category, 0 for Ham, 1 for Spam')\n",
    "plt.ylabel('Average Message Length')\n",
    "plt.xticks(rotation=0)\n",
    "plt.show()"
   ]
  },
  {
   "cell_type": "markdown",
   "id": "52d77be6",
   "metadata": {},
   "source": [
    "## 4.3 Average Word Count by Category"
   ]
  },
  {
   "cell_type": "code",
   "execution_count": 157,
   "id": "723998e9",
   "metadata": {},
   "outputs": [
    {
     "data": {
      "image/png": "[encoded data removed]",
      "text/plain": [
       "<Figure size 640x480 with 1 Axes>"
      ]
     },
     "metadata": {},
     "output_type": "display_data"
    }
   ],
   "source": [
    "# word Count by Category\n",
    "df.groupby('category')['word_count'].mean().plot(kind='bar')\n",
    "plt.title('Average Word Count by Category')\n",
    "plt.xlabel('Category, 0 for Ham, 1 for Spam')\n",
    "plt.ylabel('Average Word Count')\n",
    "plt.xticks(rotation=0)\n",
    "plt.show()"
   ]
  },
  {
   "cell_type": "markdown",
   "id": "62330893",
   "metadata": {},
   "source": [
    "## 4.4 Has numbers by category"
   ]
  },
  {
   "cell_type": "code",
   "execution_count": 158,
   "id": "d7669375",
   "metadata": {},
   "outputs": [
    {
     "data": {
      "image/png": "[encoded data removed]",
      "text/plain": [
       "<Figure size 640x480 with 1 Axes>"
      ]
     },
     "metadata": {},
     "output_type": "display_data"
    }
   ],
   "source": [
    "# compare how many messages have numbers by category\n",
    "df.groupby('category')['has_numbers'].mean().plot(kind='bar')\n",
    "plt.title('Has numbers by category')\n",
    "plt.xlabel('Category, 0 for Ham, 1 for Spam')\n",
    "plt.ylabel('Proportion of messages with numbers')\n",
    "plt.xticks(rotation=0)\n",
    "plt.show()"
   ]
  },
  {
   "cell_type": "markdown",
   "id": "a0b47515",
   "metadata": {},
   "source": [
    "## 4.5 Has link"
   ]
  },
  {
   "cell_type": "code",
   "execution_count": 159,
   "id": "85a2d6b6",
   "metadata": {},
   "outputs": [
    {
     "data": {
      "image/png": "[encoded data removed]",
      "text/plain": [
       "<Figure size 640x480 with 1 Axes>"
      ]
     },
     "metadata": {},
     "output_type": "display_data"
    }
   ],
   "source": [
    "# compare how many message have links by category\n",
    "df.groupby('category')['has_link'].mean().plot(kind='bar')\n",
    "plt.title('Has link by category')\n",
    "plt.xlabel('Category, 0 for Ham, 1 for Spam')\n",
    "plt.ylabel('Proportion of messages with links')\n",
    "plt.xticks(rotation=0)\n",
    "plt.show()"
   ]
  },
  {
   "cell_type": "markdown",
   "id": "11a272b5",
   "metadata": {},
   "source": [
    "## 4.6 Has suspicious words"
   ]
  },
  {
   "cell_type": "code",
   "execution_count": 160,
   "id": "643fc23c",
   "metadata": {},
   "outputs": [
    {
     "data": {
      "image/png": "[encoded data removed]",
      "text/plain": [
       "<Figure size 640x480 with 1 Axes>"
      ]
     },
     "metadata": {},
     "output_type": "display_data"
    }
   ],
   "source": [
    "# compare how many message have suspicious words by category\n",
    "df.groupby('category')['has_suspicious_words'].mean().plot(kind='bar')\n",
    "plt.title('Has suspicious words by category')\n",
    "plt.xlabel('Category, 0 for Ham, 1 for Spam')\n",
    "plt.ylabel('Proportion of messages with suspicious words')\n",
    "plt.xticks(rotation=0)\n",
    "plt.show()"
   ]
  },
  {
   "cell_type": "markdown",
   "id": "aceb8f2b",
   "metadata": {},
   "source": [
    "# 5. Preparing data for model"
   ]
  },
  {
   "cell_type": "markdown",
   "id": "e0f884b7",
   "metadata": {},
   "source": [
    "## 5.1 Select columns for features x and target y"
   ]
  },
  {
   "cell_type": "code",
   "execution_count": 161,
   "id": "07909d13",
   "metadata": {},
   "outputs": [],
   "source": [
    "X = df[['message_length', 'word_count', 'has_numbers', 'has_link', 'has_suspicious_words']]\n",
    "y = df['category']"
   ]
  },
  {
   "cell_type": "markdown",
   "id": "29bb355b",
   "metadata": {},
   "source": [
    "## 5.2 Split data for training and test"
   ]
  },
  {
   "cell_type": "code",
   "execution_count": 162,
   "id": "938d3632",
   "metadata": {},
   "outputs": [],
   "source": [
    "# split data for training and testing\n",
    "# stratify to maintain the proportion of classes in both sets\n",
    "X_train, X_test, y_train, y_test = train_test_split(\n",
    "    X, y, test_size=0.2, random_state=42, stratify=y\n",
    ")"
   ]
  },
  {
   "cell_type": "markdown",
   "id": "9fc343f2",
   "metadata": {},
   "source": [
    "## 5.3 Scale features to be fair"
   ]
  },
  {
   "cell_type": "code",
   "execution_count": 163,
   "id": "041baf66",
   "metadata": {},
   "outputs": [],
   "source": [
    "# scale features with standard scaler so one unit in feature is one standard deviation\n",
    "# especially important for logistic regression\n",
    "scaler = StandardScaler()\n",
    "X_train_scaled = scaler.fit_transform(X_train)\n",
    "X_test_scaled = scaler.transform(X_test)"
   ]
  },
  {
   "cell_type": "markdown",
   "id": "f4826c7a",
   "metadata": {},
   "source": [
    "# 6. Training Models"
   ]
  },
  {
   "cell_type": "markdown",
   "id": "2696b71f",
   "metadata": {},
   "source": [
    "## 6.1 Logistic Regression from Scratch"
   ]
  },
  {
   "cell_type": "code",
   "execution_count": null,
   "id": "198260fe",
   "metadata": {},
   "outputs": [
    {
     "name": "stdout",
     "output_type": "stream",
     "text": [
      "5\n",
      "Metrics for Logistic Regression from Scratch model:\n",
      "Accuracy:       0.93\n",
      "Recall:         0.63\n",
      "Precision:      0.81\n",
      "F1 Score:       0.71\n",
      "Confusion Matrix:\n",
      "[[884  19]\n",
      " [ 49  82]]\n"
     ]
    }
   ],
   "source": [
    "# w is weights, b is bias\n",
    "# initialize weights and bias to zeros using numpy\n",
    "w, b = np.zeros(len(X), 0)\n",
    "\n",
    "for _ in range(1000):\n",
    "    p = 1 / (1 + np.exp(-(X_train_scaled @ w + b)))\n",
    "    w -= 0.01 * (X_train_scaled.T @ (p - y_train)) / len(y_train)\n",
    "    b -= 0.01 * np.sum(p - y_train) / len(y_train)\n",
    "\n",
    "# make predictions using @ operator for dot product\n",
    "# apply sigmoid and threshold at 0.5\n",
    "y_pred = (1 / (1 + np.exp(-(X_test_scaled @ w + b))) >= 0.5).astype(int)\n",
    "\n",
    "print(\"Metrics for Logistic Regression from Scratch model:\")\n",
    "\n",
    "# check accuracy\n",
    "lrs_accuracy = accuracy_score(y_test, y_pred)\n",
    "print(f\"Accuracy: {lrs_accuracy:10.2f}\")\n",
    "\n",
    "# check recall\n",
    "lrs_recall = recall_score(y_test, y_pred)\n",
    "print(f\"Recall: {lrs_recall:12.2f}\")\n",
    "\n",
    "# check precision\n",
    "lrs_precision = precision_score(y_test, y_pred)\n",
    "print(f\"Precision: {lrs_precision:9.2f}\")\n",
    "\n",
    "# check f1 score\n",
    "lrs_f1 = f1_score(y_test, y_pred)\n",
    "print(f\"F1 Score: {lrs_f1:10.2f}\")\n",
    "\n",
    "# check confusion matrix\n",
    "lrs_cm = confusion_matrix(y_test, y_pred)\n",
    "print(\"Confusion Matrix:\")\n",
    "print(lrs_cm)"
   ]
  },
  {
   "cell_type": "markdown",
   "id": "3ae61681",
   "metadata": {},
   "source": [
    "## 6.2 Logistic Regression"
   ]
  },
  {
   "cell_type": "code",
   "execution_count": 168,
   "id": "6283be69",
   "metadata": {},
   "outputs": [
    {
     "name": "stdout",
     "output_type": "stream",
     "text": [
      "Metrics for Logistic Regression Model:\n",
      "Accuracy:       0.95\n",
      "Recall:         0.70\n",
      "Precision:      0.88\n",
      "F1 Score:       0.78\n",
      "Confusion Matrix:\n",
      "[[891  12]\n",
      " [ 39  92]]\n"
     ]
    }
   ],
   "source": [
    "# create the model for linear regression\n",
    "lr_model = LogisticRegression(random_state=42)\n",
    "\n",
    "# train model\n",
    "lr_model.fit(X_train_scaled, y_train)\n",
    "\n",
    "# make predictions\n",
    "y_pred = lr_model.predict(X_test_scaled)\n",
    "\n",
    "print(\"Metrics for Logistic Regression Model:\")\n",
    "\n",
    "# check accuracy\n",
    "lr_accuracy = accuracy_score(y_test, y_pred)\n",
    "print(f\"Accuracy: {lr_accuracy:10.2f}\")\n",
    "\n",
    "# check recall\n",
    "lr_recall = recall_score(y_test, y_pred)\n",
    "print(f\"Recall: {lr_recall:12.2f}\")\n",
    "\n",
    "# check precision\n",
    "lr_precision = precision_score(y_test, y_pred)\n",
    "print(f\"Precision: {lr_precision:9.2f}\")\n",
    "\n",
    "# check f1 score\n",
    "lr_f1 = f1_score(y_test, y_pred)\n",
    "print(f\"F1 Score: {lr_f1:10.2f}\")\n",
    "\n",
    "\n",
    "# check confusion matrix\n",
    "lr_cm = confusion_matrix(y_test, y_pred)\n",
    "print(\"Confusion Matrix:\")\n",
    "print(lr_cm)"
   ]
  },
  {
   "cell_type": "markdown",
   "id": "d2729516",
   "metadata": {},
   "source": [
    "# 6. Evaluate Models"
   ]
  }
 ],
 "metadata": {
  "kernelspec": {
   "display_name": ".venv",
   "language": "python",
   "name": "python3"
  },
  "language_info": {
   "codemirror_mode": {
    "name": "ipython",
    "version": 3
   },
   "file_extension": ".py",
   "mimetype": "text/x-python",
   "name": "python",
   "nbconvert_exporter": "python",
   "pygments_lexer": "ipython3",
   "version": "3.13.7"
  }
 },
 "nbformat": 4,
 "nbformat_minor": 5
}
